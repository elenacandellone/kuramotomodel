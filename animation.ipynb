{
 "cells": [
  {
   "cell_type": "code",
   "execution_count": 54,
   "metadata": {},
   "outputs": [],
   "source": [
    "%matplotlib inline\n",
    "import numpy as np\n",
    "import matplotlib.pyplot as plt\n",
    "import math \n",
    "from matplotlib import animation\n",
    "plt.style.use('seaborn-pastel')"
   ]
  },
  {
   "cell_type": "code",
   "execution_count": 51,
   "metadata": {},
   "outputs": [],
   "source": [
    "#==============\n",
    "#=====DATI=====\n",
    "#==============\n",
    "k=0.2            #coupling const\n",
    "n=4              #numero di oscillatori\n",
    "time_int=1200\n",
    "dt=0.003"
   ]
  },
  {
   "cell_type": "code",
   "execution_count": 52,
   "metadata": {},
   "outputs": [],
   "source": [
    "data = np.genfromtxt('trajectory.csv', delimiter = ',')    #leggo i dati dal file trajectory.csv\n",
    "oscill=np.array([np.array ([np.array ([0. ,1. ,0.])  for  osc in  range(n)]) for time in  range(time_int)])\n",
    "for t in range(time_int):\n",
    "    for osc in range(n):\n",
    "        oscill[t][osc][0]=data[t][osc+1]  #theta\n",
    "        oscill[t][osc][1]=math.cos(data[t][osc+1]) #cos theta\n",
    "        oscill[t][osc][2]=math.sin(data[t][osc+1]) #sin theta\n",
    "#l'array oscill avrà [theta,cos(theta),sin(theta)] per ogni oscillatore e per ogni istante (1200 righe e n colonne)    "
   ]
  },
  {
   "cell_type": "code",
   "execution_count": 55,
   "metadata": {},
   "outputs": [],
   "source": [
    "data_order = np.genfromtxt('order.csv', delimiter= ',')        #leggo i dati dai file order.csv e Rorder.csv\n",
    "data_r_order = np.genfromtxt('Rorder.csv', delimiter= ',')\n",
    "order=np.array([np.array([0., 1., 0.]) for time in range(time_int)])\n",
    "for x in range(time_int):\n",
    "    order[x][0] = data_r_order[x][1]     #modulo\n",
    "    order[x][1] = data_order[x][1]       #parte reale\n",
    "    order[x][2] = data_order[x][2]       #parte immaginaria\n",
    "#l'array order avrà [modulo di r,Re(r),Im(r)] per ogni istante (r parametro d'ordine)    "
   ]
  },
  {
   "cell_type": "code",
   "execution_count": 56,
   "metadata": {
    "scrolled": true
   },
   "outputs": [
    {
     "data": {
      "image/png": "[encoded data removed]",
      "text/plain": [
       "<Figure size 432x288 with 1 Axes>"
      ]
     },
     "metadata": {
      "needs_background": "light"
     },
     "output_type": "display_data"
    }
   ],
   "source": [
    "#=========\n",
    "#=FIGURA==\n",
    "#=========\n",
    "fig = plt.figure()\n",
    "ax = fig.add_subplot(autoscale_on=True, xlim=(-1.5, 1.5), ylim=(-1.5, 1.5))\n",
    "fig.suptitle('K='+str(k)+', N='+str(n))\n",
    "ax.set_aspect('equal')\n",
    "ax.grid()\n",
    "ax.set_xlabel('Re')\n",
    "ax.set_ylabel('Im')\n",
    "cir=plt.Circle ((0 ,0) ,1,fill=False)  #unit circle su cui si muovono gli oscillatori\n",
    "ax.add_artist(cir)\n",
    "osc, =ax.plot([],[],'o')\n",
    "time_template = 'time = %.1fs'\n",
    "time_text = ax.text(0.05, 0.9, '', transform=ax.transAxes)  #invece del tempo ho messo il variare del modulo di r\n",
    "#=========\n",
    "#=FRECCIA=\n",
    "#=========\n",
    "Q=ax.quiver(0,0,0,0,units='xy',scale=1)  #freccia che ha come coordinate della punta Re(r) e Im(r)\n",
    "\n",
    "#=========\n",
    "#=INIT====\n",
    "#=========\n",
    "# initialization function \n",
    "def init():\n",
    "    osc.set_data([], [])\n",
    "    time_text.set_text('')\n",
    "    return osc, time_text\n",
    "#============\n",
    "# = Animate =\n",
    "#============\n",
    "def animate(i):\n",
    "    osc.set_data([oscill[i][osc][1] for osc in range(n)],[oscill[i][osc][2] for osc in range(n)])\n",
    "    Q.set_UVC([order[i][1]],[order[i][2]])\n",
    "    time_text.set_text('r = ' + str(order[i][0]))\n",
    "    return osc, Q, time_text\n",
    "\n",
    "anim=animation.FuncAnimation(fig, animate, frames=time_int, interval=8, blit=False)\n",
    "        \n",
    "plt.show()\n",
    "anim.save('Kuramoto(k='+str(k)+',n='+str(n)+').mp4', fps=30)"
   ]
  },
  {
   "cell_type": "code",
   "execution_count": null,
   "metadata": {},
   "outputs": [],
   "source": []
  },
  {
   "cell_type": "code",
   "execution_count": null,
   "metadata": {},
   "outputs": [],
   "source": []
  }
 ],
 "metadata": {
  "kernelspec": {
   "display_name": "Python 3",
   "language": "python",
   "name": "python3"
  },
  "language_info": {
   "codemirror_mode": {
    "name": "ipython",
    "version": 3
   },
   "file_extension": ".py",
   "mimetype": "text/x-python",
   "name": "python",
   "nbconvert_exporter": "python",
   "pygments_lexer": "ipython3",
   "version": "3.7.6"
  }
 },
 "nbformat": 4,
 "nbformat_minor": 4
}
